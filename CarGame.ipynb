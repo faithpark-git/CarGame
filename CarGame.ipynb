{
  "nbformat": 4,
  "nbformat_minor": 0,
  "metadata": {
    "colab": {
      "provenance": [],
      "include_colab_link": true
    },
    "kernelspec": {
      "name": "python3",
      "display_name": "Python 3"
    },
    "language_info": {
      "name": "python"
    }
  },
  "cells": [
    {
      "cell_type": "markdown",
      "metadata": {
        "id": "view-in-github",
        "colab_type": "text"
      },
      "source": [
        "<a href=\"https://colab.research.google.com/github/yoojinleee/CarGame/blob/main/CarGame.ipynb\" target=\"_parent\"><img src=\"https://colab.research.google.com/assets/colab-badge.svg\" alt=\"Open In Colab\"/></a>"
      ]
    },
    {
      "cell_type": "code",
      "execution_count": 4,
      "metadata": {
        "id": "05PaTzDEVF6u"
      },
      "outputs": [],
      "source": [
        "import pygame\n",
        "import random\n",
        "import sys\n",
        "import time\n",
        "\n",
        "# Initializing the game\n",
        "pygame.init()\n",
        "\n",
        "# Making the settings for the screen display\n",
        "WIDTH, HEIGHT = 800, 600\n",
        "screen = pygame.display.set_mode((WIDTH, HEIGHT))\n",
        "pygame.display.set_caption(\"Car Racing Game\")\n",
        "\n",
        "# Frame rate for moving car\n",
        "clock = pygame.time.Clock()\n",
        "font = pygame.font.SysFont(None, 48)\n",
        "\n",
        "#Car\n",
        "car_width, car_height = 50, 100\n",
        "car = pygame.Rect(WIDTH//2, HEIGHT - 120, car_width, car_height)\n",
        "\n",
        "# Making the car move\n",
        "car_speed = 5\n",
        "\n",
        "#Obstacle\n",
        "obstacle_width, obstacle_height = 50, 100\n",
        "obstacles = []\n",
        "obstacle_speed = 5\n",
        "\n",
        "#Game Activity\n",
        "running = True\n",
        "game_active = True\n",
        "last_math_time = time.time ()\n",
        "math_interval = 30\n",
        "\n",
        "#Colors\n",
        "White = (255, 255, 255)\n",
        "Black = (0,0,0)\n",
        "Red = (255, 0, 0)\n",
        "Blue = (0, 0, 255)\n",
        "\n",
        "def draw_car():\n",
        "  pygame.draw.rect(screen, Blue, car)\n",
        "\n",
        "def draw_obstacles():\n",
        "  for obs in obstacles:\n",
        "    pygame.draw.rect(screen, Red, obs)\n",
        "\n",
        "def spawn_obstacle():\n",
        "  x = random.randint(0, WIDTH - obstacle_width)\n",
        "  new_obstacle = pygame.Rect(x, -obstacle_height, obstacle_width, obstacle_height)\n",
        "  obstacles.append(new_obstacle)\n",
        "\n",
        "def move_obstacles():\n",
        "  for obs in obstacles:\n",
        "    obs.y += obstacle_speed\n",
        "  #Deleting obstacles off the screen\n",
        "  obstacles[:] = [obs for obs in obstacles if obs.y < HEIGHT]\n",
        "\n",
        "def check_collision():\n",
        "  for obs in obstacles:\n",
        "    if car.colliderect(obs):\n",
        "      return True\n",
        "  return False\n",
        "\n",
        "def show_message(message):\n",
        "  text = font.render(message, True, Black)\n",
        "  rect = text.get_rect(center=(WIDTH//2, HEIGHT//2))\n",
        "  screen.blit(text, rect)\n",
        "  pygame.display.flip()\n",
        "  pygame.time.delay(2000)\n"
      ]
    },
    {
      "cell_type": "code",
      "source": [],
      "metadata": {
        "id": "netBE8FR2XNV"
      },
      "execution_count": null,
      "outputs": []
    }
  ]
}