{
  "nbformat": 4,
  "nbformat_minor": 0,
  "metadata": {
    "colab": {
      "provenance": [],
      "include_colab_link": true
    },
    "kernelspec": {
      "name": "python3",
      "display_name": "Python 3"
    },
    "language_info": {
      "name": "python"
    }
  },
  "cells": [
    {
      "cell_type": "markdown",
      "metadata": {
        "id": "view-in-github",
        "colab_type": "text"
      },
      "source": [
        "<a href=\"https://colab.research.google.com/github/yoojinleee/CarGame/blob/main/CarGame.ipynb\" target=\"_parent\"><img src=\"https://colab.research.google.com/assets/colab-badge.svg\" alt=\"Open In Colab\"/></a>"
      ]
    },
    {
      "cell_type": "code",
      "execution_count": 1,
      "metadata": {
        "id": "05PaTzDEVF6u",
        "colab": {
          "base_uri": "https://localhost:8080/"
        },
        "outputId": "2a43bc43-d18d-496e-a7d4-2e763a60326e"
      },
      "outputs": [
        {
          "output_type": "stream",
          "name": "stdout",
          "text": [
            "pygame 2.6.1 (SDL 2.28.4, Python 3.11.12)\n",
            "Hello from the pygame community. https://www.pygame.org/contribute.html\n"
          ]
        }
      ],
      "source": [
        "import pygame\n",
        "import random\n",
        "import sys\n",
        "import time\n",
        "\n",
        "# Initializing the game\n",
        "pygame.init()\n",
        "\n",
        "# Making the settings for the screen display\n",
        "WIDTH, HEIGHT = 800, 600\n",
        "screen = pygame.display.set_mode((WIDTH, HEIGHT))\n",
        "pygame.display.set_caption(\"Car Racing Game\")\n",
        "\n",
        "# Frame rate for moving car\n",
        "clock = pygame.time.Clock()\n",
        "font = pygame.font.SysFont(None, 48)\n",
        "\n",
        "#Car\n",
        "car_width, car_height = 50, 100\n",
        "car = pygame.Rect(WIDTH//2, HEIGHT - 120, car_width, car_height)\n",
        "\n",
        "# Making the car move\n",
        "car_speed = 5\n",
        "\n",
        "#Obstacle\n",
        "obstacle_width, obstacle_height = 50, 100\n",
        "obstacles = []\n",
        "obstacle_speed = 5\n",
        "\n",
        "#Game Activity\n",
        "running = True\n",
        "game_active = True\n",
        "last_math_time = time.time ()\n",
        "math_interval = 30\n",
        "\n",
        "#Colors\n",
        "WHITE = (255, 255, 255)\n",
        "Black = (0,0,0)\n",
        "Red = (255, 0, 0)\n",
        "Blue = (0, 0, 255)\n",
        "\n",
        "def draw_car():\n",
        "  pygame.draw.rect(screen, Blue, car)\n",
        "\n",
        "def draw_obstacles():\n",
        "  for obs in obstacles:\n",
        "    pygame.draw.rect(screen, Red, obs)\n",
        "\n",
        "def spawn_obstacle():\n",
        "  x = random.randint(0, WIDTH - obstacle_width)\n",
        "  new_obstacle = pygame.Rect(x, -obstacle_height, obstacle_width, obstacle_height)\n",
        "  obstacles.append(new_obstacle)\n",
        "\n",
        "def move_obstacles():\n",
        "  for obs in obstacles:\n",
        "    obs.y += obstacle_speed\n",
        "  #Deleting obstacles off the screen\n",
        "  obstacles[:] = [obs for obs in obstacles if obs.y < HEIGHT]\n",
        "\n",
        "def check_collision():\n",
        "  for obs in obstacles:\n",
        "    if car.colliderect(obs):\n",
        "      return True\n",
        "  return False\n",
        "\n",
        "def show_message(message):\n",
        "  text = font.render(message, True, Black)\n",
        "  rect = text.get_rect(center=(WIDTH//2, HEIGHT//2))\n",
        "  screen.blit(text, rect)\n",
        "  pygame.display.flip()\n",
        "  pygame.time.delay(2000)\n"
      ]
    },
    {
      "cell_type": "code",
      "source": [
        "# Pausing the game every 30 seconds to ask a math question\n",
        "# Generate two random numbers between 1 and 10\n",
        "\n",
        "def ask_math_question():\n",
        "    num1 = random.randint(1, 10)\n",
        "    num2 = random.randint(1, 10)\n",
        "    answer = num1 * num2 # Calculate the correct answer\n",
        "    user_input = \"\"\n",
        "    asking = True\n",
        "\n",
        "\n",
        "# Begin the math question loop\n",
        "    while asking:\n",
        "        screen.fill(WHITE) # Clearing the screen so we can ask the math question\n",
        "        question = font.render(f\"What is {num1} x {num2}?\", True, Black)\n",
        "        input_box = font.render(user_input, True, Red)\n",
        "        screen.blit(question, (WIDTH // 2 - question.get_width() // 2, HEIGHT // 2 - 50))\n",
        "        screen.blit(input_box, (WIDTH // 2 - input_box.get_width() // 2, HEIGHT // 2 + 10))\n",
        "        pygame.display.flip()\n",
        "\n",
        "# Handling different events that could potentially happen\n",
        "        for event in pygame.event.get():\n",
        "            if event.type == pygame.QUIT:\n",
        "                pygame.quit()\n",
        "                sys.exit()\n",
        "            elif event.type == pygame.KEYDOWN:\n",
        "                if event.key == pygame.K_BACKSPACE:\n",
        "                    user_input = user_input[:-1]\n",
        "                elif event.key == pygame.K_RETURN:\n",
        "                    if user_input.isdigit():\n",
        "                        if int(user_input) == answer:\n",
        "                            asking = False  # Resume the game\n",
        "                        else:\n",
        "                            show_message(\"Wrong! You died.\")\n",
        "                            return False  # Game is over\n",
        "                else:\n",
        "                    user_input += event.unicode\n",
        "    return True  # Continue the game"
      ],
      "metadata": {
        "id": "netBE8FR2XNV"
      },
      "execution_count": 2,
      "outputs": []
    },
    {
      "cell_type": "code",
      "source": [
        "while running:\n",
        "  clock.tick(60)\n",
        "  screen.fill(WHITE)\n",
        "\n",
        "  for event in pygame.event.get():\n",
        "    if event.type == pygame.QUIT:\n",
        "      running = False\n",
        "\n",
        "  if game_active:\n",
        "      keys = pygame.key.get_pressed()\n",
        "      if keys[pygame.K_LEFT] and car.left>0:\n",
        "        car.x -= car_speed\n",
        "      if keys[pygame.K_RIGHT] and car.right<WIDTH:\n",
        "        car.x += car_speed\n",
        "\n",
        "      if random.randint(1,20)==1:\n",
        "        spawn_obstacle()\n",
        "\n",
        "      move_obstacles()\n",
        "      draw_car()\n",
        "      draw_obstacles()\n",
        "\n",
        "      if check_collision():\n",
        "        show_message(\"You crashed!\")\n",
        "        game_active = False\n",
        "\n",
        "    #Time-based math challenge\n",
        "      if time.time() - last_math_time > math_interval:\n",
        "        if not ask_math_question():\n",
        "          game_active = False\n",
        "        else:\n",
        "          last_math_time = time.time()\n",
        "\n",
        "  else:\n",
        "    show_message(\"Press R to restart\")\n",
        "    keys = pygame.key.get_pressed()\n",
        "    if keys[pygame.K_r]:\n",
        "      car.x = WIDTH//2\n",
        "      obstacles.clear()\n",
        "      last_math_time = time.time()\n",
        "      game_active = True\n",
        "\n",
        "  pygame.display.flip()\n",
        "\n",
        "pygame.quit()\n",
        "sys.exit()"
      ],
      "metadata": {
        "id": "6II_dvKRai2R",
        "colab": {
          "base_uri": "https://localhost:8080/",
          "height": 341
        },
        "outputId": "76df44e5-5729-43fe-be69-18f1c5852fdf"
      },
      "execution_count": 5,
      "outputs": [
        {
          "output_type": "error",
          "ename": "KeyboardInterrupt",
          "evalue": "",
          "traceback": [
            "\u001b[0;31m---------------------------------------------------------------------------\u001b[0m",
            "\u001b[0;31mKeyboardInterrupt\u001b[0m                         Traceback (most recent call last)",
            "\u001b[0;32m<ipython-input-5-ee850641930d>\u001b[0m in \u001b[0;36m<cell line: 0>\u001b[0;34m()\u001b[0m\n\u001b[1;32m     27\u001b[0m     \u001b[0;31m#Time-based math challenge\u001b[0m\u001b[0;34m\u001b[0m\u001b[0;34m\u001b[0m\u001b[0m\n\u001b[1;32m     28\u001b[0m       \u001b[0;32mif\u001b[0m \u001b[0mtime\u001b[0m\u001b[0;34m.\u001b[0m\u001b[0mtime\u001b[0m\u001b[0;34m(\u001b[0m\u001b[0;34m)\u001b[0m \u001b[0;34m-\u001b[0m \u001b[0mlast_math_time\u001b[0m \u001b[0;34m>\u001b[0m \u001b[0mmath_interval\u001b[0m\u001b[0;34m:\u001b[0m\u001b[0;34m\u001b[0m\u001b[0;34m\u001b[0m\u001b[0m\n\u001b[0;32m---> 29\u001b[0;31m         \u001b[0;32mif\u001b[0m \u001b[0;32mnot\u001b[0m \u001b[0mask_math_question\u001b[0m\u001b[0;34m(\u001b[0m\u001b[0;34m)\u001b[0m\u001b[0;34m:\u001b[0m\u001b[0;34m\u001b[0m\u001b[0;34m\u001b[0m\u001b[0m\n\u001b[0m\u001b[1;32m     30\u001b[0m           \u001b[0mgame_active\u001b[0m \u001b[0;34m=\u001b[0m \u001b[0;32mFalse\u001b[0m\u001b[0;34m\u001b[0m\u001b[0;34m\u001b[0m\u001b[0m\n\u001b[1;32m     31\u001b[0m         \u001b[0;32melse\u001b[0m\u001b[0;34m:\u001b[0m\u001b[0;34m\u001b[0m\u001b[0;34m\u001b[0m\u001b[0m\n",
            "\u001b[0;32m<ipython-input-2-f6d0c943119d>\u001b[0m in \u001b[0;36mask_math_question\u001b[0;34m()\u001b[0m\n\u001b[1;32m     17\u001b[0m         \u001b[0mscreen\u001b[0m\u001b[0;34m.\u001b[0m\u001b[0mblit\u001b[0m\u001b[0;34m(\u001b[0m\u001b[0mquestion\u001b[0m\u001b[0;34m,\u001b[0m \u001b[0;34m(\u001b[0m\u001b[0mWIDTH\u001b[0m \u001b[0;34m//\u001b[0m \u001b[0;36m2\u001b[0m \u001b[0;34m-\u001b[0m \u001b[0mquestion\u001b[0m\u001b[0;34m.\u001b[0m\u001b[0mget_width\u001b[0m\u001b[0;34m(\u001b[0m\u001b[0;34m)\u001b[0m \u001b[0;34m//\u001b[0m \u001b[0;36m2\u001b[0m\u001b[0;34m,\u001b[0m \u001b[0mHEIGHT\u001b[0m \u001b[0;34m//\u001b[0m \u001b[0;36m2\u001b[0m \u001b[0;34m-\u001b[0m \u001b[0;36m50\u001b[0m\u001b[0;34m)\u001b[0m\u001b[0;34m)\u001b[0m\u001b[0;34m\u001b[0m\u001b[0;34m\u001b[0m\u001b[0m\n\u001b[1;32m     18\u001b[0m         \u001b[0mscreen\u001b[0m\u001b[0;34m.\u001b[0m\u001b[0mblit\u001b[0m\u001b[0;34m(\u001b[0m\u001b[0minput_box\u001b[0m\u001b[0;34m,\u001b[0m \u001b[0;34m(\u001b[0m\u001b[0mWIDTH\u001b[0m \u001b[0;34m//\u001b[0m \u001b[0;36m2\u001b[0m \u001b[0;34m-\u001b[0m \u001b[0minput_box\u001b[0m\u001b[0;34m.\u001b[0m\u001b[0mget_width\u001b[0m\u001b[0;34m(\u001b[0m\u001b[0;34m)\u001b[0m \u001b[0;34m//\u001b[0m \u001b[0;36m2\u001b[0m\u001b[0;34m,\u001b[0m \u001b[0mHEIGHT\u001b[0m \u001b[0;34m//\u001b[0m \u001b[0;36m2\u001b[0m \u001b[0;34m+\u001b[0m \u001b[0;36m10\u001b[0m\u001b[0;34m)\u001b[0m\u001b[0;34m)\u001b[0m\u001b[0;34m\u001b[0m\u001b[0;34m\u001b[0m\u001b[0m\n\u001b[0;32m---> 19\u001b[0;31m         \u001b[0mpygame\u001b[0m\u001b[0;34m.\u001b[0m\u001b[0mdisplay\u001b[0m\u001b[0;34m.\u001b[0m\u001b[0mflip\u001b[0m\u001b[0;34m(\u001b[0m\u001b[0;34m)\u001b[0m\u001b[0;34m\u001b[0m\u001b[0;34m\u001b[0m\u001b[0m\n\u001b[0m\u001b[1;32m     20\u001b[0m \u001b[0;34m\u001b[0m\u001b[0m\n\u001b[1;32m     21\u001b[0m \u001b[0;31m# Handling different events that could potentially happen\u001b[0m\u001b[0;34m\u001b[0m\u001b[0;34m\u001b[0m\u001b[0m\n",
            "\u001b[0;31mKeyboardInterrupt\u001b[0m: "
          ]
        }
      ]
    }
  ]
}